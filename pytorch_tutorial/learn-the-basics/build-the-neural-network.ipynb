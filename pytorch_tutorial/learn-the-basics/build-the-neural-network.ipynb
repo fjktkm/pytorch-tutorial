{
 "cells": [
  {
   "cell_type": "code",
   "execution_count": 1,
   "metadata": {},
   "outputs": [],
   "source": [
    "import torch\n",
    "from torch import nn\n"
   ]
  },
  {
   "cell_type": "code",
   "execution_count": 2,
   "metadata": {},
   "outputs": [
    {
     "name": "stdout",
     "output_type": "stream",
     "text": [
      "Using cuda device\n"
     ]
    }
   ],
   "source": [
    "device = (\n",
    "    \"cuda\"\n",
    "    if torch.cuda.is_available()\n",
    "    else \"mps\"\n",
    "    if torch.backends.mps.is_available()\n",
    "    else \"cpu\"\n",
    ")\n",
    "print(f\"Using {device} device\")\n"
   ]
  },
  {
   "cell_type": "code",
   "execution_count": 3,
   "metadata": {},
   "outputs": [],
   "source": [
    "class NeuralNetwork(nn.Module):\n",
    "    def __init__(self):\n",
    "        super().__init__()\n",
    "        self.flatten = nn.Flatten()\n",
    "        self.linear_relu_stack = nn.Sequential(\n",
    "            nn.Linear(28 * 28, 512),\n",
    "            nn.ReLU(),\n",
    "            nn.Linear(512, 512),\n",
    "            nn.ReLU(),\n",
    "            nn.Linear(512, 10),\n",
    "        )\n",
    "\n",
    "    def forward(self, x):\n",
    "        x = self.flatten(x)\n",
    "        logits = self.linear_relu_stack(x)\n",
    "        return logits\n"
   ]
  },
  {
   "cell_type": "code",
   "execution_count": 4,
   "metadata": {},
   "outputs": [
    {
     "name": "stdout",
     "output_type": "stream",
     "text": [
      "NeuralNetwork(\n",
      "  (flatten): Flatten(start_dim=1, end_dim=-1)\n",
      "  (linear_relu_stack): Sequential(\n",
      "    (0): Linear(in_features=784, out_features=512, bias=True)\n",
      "    (1): ReLU()\n",
      "    (2): Linear(in_features=512, out_features=512, bias=True)\n",
      "    (3): ReLU()\n",
      "    (4): Linear(in_features=512, out_features=10, bias=True)\n",
      "  )\n",
      ")\n"
     ]
    }
   ],
   "source": [
    "model = NeuralNetwork().to(device)\n",
    "print(model)\n"
   ]
  },
  {
   "cell_type": "code",
   "execution_count": 5,
   "metadata": {},
   "outputs": [
    {
     "name": "stdout",
     "output_type": "stream",
     "text": [
      "Predicted class: tensor([9], device='cuda:0')\n"
     ]
    }
   ],
   "source": [
    "X = torch.rand(1, 28, 28, device=device)\n",
    "logits = model(X)\n",
    "pred_probab = nn.Softmax(dim=1)(logits)\n",
    "y_pred = pred_probab.argmax(1)\n",
    "print(f\"Predicted class: {y_pred}\")\n"
   ]
  },
  {
   "cell_type": "code",
   "execution_count": 6,
   "metadata": {},
   "outputs": [
    {
     "name": "stdout",
     "output_type": "stream",
     "text": [
      "torch.Size([3, 28, 28])\n"
     ]
    }
   ],
   "source": [
    "input_image = torch.rand(3, 28, 28)\n",
    "print(input_image.size())\n"
   ]
  },
  {
   "cell_type": "code",
   "execution_count": 7,
   "metadata": {},
   "outputs": [
    {
     "name": "stdout",
     "output_type": "stream",
     "text": [
      "torch.Size([3, 784])\n"
     ]
    }
   ],
   "source": [
    "flatten = nn.Flatten()\n",
    "flat_image = flatten(input_image)\n",
    "print(flat_image.size())\n"
   ]
  },
  {
   "cell_type": "code",
   "execution_count": 8,
   "metadata": {},
   "outputs": [
    {
     "name": "stdout",
     "output_type": "stream",
     "text": [
      "torch.Size([3, 20])\n"
     ]
    }
   ],
   "source": [
    "layer1 = nn.Linear(in_features=28 * 28, out_features=20)\n",
    "hidden1 = layer1(flat_image)\n",
    "print(hidden1.size())\n"
   ]
  },
  {
   "cell_type": "code",
   "execution_count": 9,
   "metadata": {},
   "outputs": [
    {
     "name": "stdout",
     "output_type": "stream",
     "text": [
      "Before ReLU: tensor([[ 0.2324,  0.0790,  0.4156, -0.8419, -0.0423, -0.6914,  0.1100, -0.0588,\n",
      "         -0.6214, -0.6518,  0.5427, -0.4791, -0.1936,  0.3698, -0.5233,  0.6849,\n",
      "         -0.3253, -0.1542, -0.0957,  0.2456],\n",
      "        [ 0.3701,  0.1310,  0.7855, -0.7769, -0.2513,  0.0143, -0.0537,  0.0509,\n",
      "         -0.7738, -0.1587,  0.2464, -0.1460, -0.2049,  0.2427, -0.9028,  0.2981,\n",
      "          0.1481,  0.0599, -0.1574,  0.3487],\n",
      "        [ 0.1251, -0.0340,  0.3341, -0.5145, -0.0642,  0.1114, -0.1978,  0.1871,\n",
      "         -0.4944, -0.3733,  0.4303, -0.4788, -0.0297,  0.2613, -0.6267,  0.8153,\n",
      "         -0.1281, -0.4023, -0.0222,  0.1051]], grad_fn=<AddmmBackward0>)\n",
      "\n",
      "\n",
      "After ReLU: tensor([[0.2324, 0.0790, 0.4156, 0.0000, 0.0000, 0.0000, 0.1100, 0.0000, 0.0000,\n",
      "         0.0000, 0.5427, 0.0000, 0.0000, 0.3698, 0.0000, 0.6849, 0.0000, 0.0000,\n",
      "         0.0000, 0.2456],\n",
      "        [0.3701, 0.1310, 0.7855, 0.0000, 0.0000, 0.0143, 0.0000, 0.0509, 0.0000,\n",
      "         0.0000, 0.2464, 0.0000, 0.0000, 0.2427, 0.0000, 0.2981, 0.1481, 0.0599,\n",
      "         0.0000, 0.3487],\n",
      "        [0.1251, 0.0000, 0.3341, 0.0000, 0.0000, 0.1114, 0.0000, 0.1871, 0.0000,\n",
      "         0.0000, 0.4303, 0.0000, 0.0000, 0.2613, 0.0000, 0.8153, 0.0000, 0.0000,\n",
      "         0.0000, 0.1051]], grad_fn=<ReluBackward0>)\n"
     ]
    }
   ],
   "source": [
    "print(f\"Before ReLU: {hidden1}\\n\\n\")\n",
    "hidden1 = nn.ReLU()(hidden1)\n",
    "print(f\"After ReLU: {hidden1}\")\n"
   ]
  },
  {
   "cell_type": "code",
   "execution_count": 10,
   "metadata": {},
   "outputs": [
    {
     "name": "stdout",
     "output_type": "stream",
     "text": [
      "Before ReLU: tensor([[0.2324, 0.0790, 0.4156, 0.0000, 0.0000, 0.0000, 0.1100, 0.0000, 0.0000,\n",
      "         0.0000, 0.5427, 0.0000, 0.0000, 0.3698, 0.0000, 0.6849, 0.0000, 0.0000,\n",
      "         0.0000, 0.2456],\n",
      "        [0.3701, 0.1310, 0.7855, 0.0000, 0.0000, 0.0143, 0.0000, 0.0509, 0.0000,\n",
      "         0.0000, 0.2464, 0.0000, 0.0000, 0.2427, 0.0000, 0.2981, 0.1481, 0.0599,\n",
      "         0.0000, 0.3487],\n",
      "        [0.1251, 0.0000, 0.3341, 0.0000, 0.0000, 0.1114, 0.0000, 0.1871, 0.0000,\n",
      "         0.0000, 0.4303, 0.0000, 0.0000, 0.2613, 0.0000, 0.8153, 0.0000, 0.0000,\n",
      "         0.0000, 0.1051]], grad_fn=<ReluBackward0>)\n",
      "\n",
      "\n",
      "After ReLU: tensor([[0.2324, 0.0790, 0.4156, 0.0000, 0.0000, 0.0000, 0.1100, 0.0000, 0.0000,\n",
      "         0.0000, 0.5427, 0.0000, 0.0000, 0.3698, 0.0000, 0.6849, 0.0000, 0.0000,\n",
      "         0.0000, 0.2456],\n",
      "        [0.3701, 0.1310, 0.7855, 0.0000, 0.0000, 0.0143, 0.0000, 0.0509, 0.0000,\n",
      "         0.0000, 0.2464, 0.0000, 0.0000, 0.2427, 0.0000, 0.2981, 0.1481, 0.0599,\n",
      "         0.0000, 0.3487],\n",
      "        [0.1251, 0.0000, 0.3341, 0.0000, 0.0000, 0.1114, 0.0000, 0.1871, 0.0000,\n",
      "         0.0000, 0.4303, 0.0000, 0.0000, 0.2613, 0.0000, 0.8153, 0.0000, 0.0000,\n",
      "         0.0000, 0.1051]], grad_fn=<ReluBackward0>)\n"
     ]
    }
   ],
   "source": [
    "print(f\"Before ReLU: {hidden1}\\n\\n\")\n",
    "hidden1 = nn.ReLU()(hidden1)\n",
    "print(f\"After ReLU: {hidden1}\")\n"
   ]
  },
  {
   "cell_type": "code",
   "execution_count": 11,
   "metadata": {},
   "outputs": [],
   "source": [
    "seq_modules = nn.Sequential(flatten, layer1, nn.ReLU(), nn.Linear(20, 10))\n",
    "input_image = torch.rand(3, 28, 28)\n",
    "logits = seq_modules(input_image)\n"
   ]
  },
  {
   "cell_type": "code",
   "execution_count": 12,
   "metadata": {},
   "outputs": [],
   "source": [
    "softmax = nn.Softmax(dim=1)\n",
    "pred_probab = softmax(logits)\n"
   ]
  },
  {
   "cell_type": "code",
   "execution_count": 13,
   "metadata": {},
   "outputs": [
    {
     "name": "stdout",
     "output_type": "stream",
     "text": [
      "Model structure: NeuralNetwork(\n",
      "  (flatten): Flatten(start_dim=1, end_dim=-1)\n",
      "  (linear_relu_stack): Sequential(\n",
      "    (0): Linear(in_features=784, out_features=512, bias=True)\n",
      "    (1): ReLU()\n",
      "    (2): Linear(in_features=512, out_features=512, bias=True)\n",
      "    (3): ReLU()\n",
      "    (4): Linear(in_features=512, out_features=10, bias=True)\n",
      "  )\n",
      ")\n",
      "\n",
      "\n",
      "Layer: linear_relu_stack.0.weight | Size: torch.Size([512, 784]) | Values : tensor([[-0.0169, -0.0325,  0.0345,  ...,  0.0161, -0.0044,  0.0266],\n",
      "        [ 0.0179, -0.0029, -0.0269,  ...,  0.0163, -0.0031, -0.0212]],\n",
      "       device='cuda:0', grad_fn=<SliceBackward0>) \n",
      "\n",
      "Layer: linear_relu_stack.0.bias | Size: torch.Size([512]) | Values : tensor([-0.0271, -0.0253], device='cuda:0', grad_fn=<SliceBackward0>) \n",
      "\n",
      "Layer: linear_relu_stack.2.weight | Size: torch.Size([512, 512]) | Values : tensor([[-0.0349, -0.0373, -0.0416,  ...,  0.0399,  0.0407, -0.0343],\n",
      "        [ 0.0096, -0.0246, -0.0211,  ...,  0.0122, -0.0268, -0.0225]],\n",
      "       device='cuda:0', grad_fn=<SliceBackward0>) \n",
      "\n",
      "Layer: linear_relu_stack.2.bias | Size: torch.Size([512]) | Values : tensor([-0.0076, -0.0278], device='cuda:0', grad_fn=<SliceBackward0>) \n",
      "\n",
      "Layer: linear_relu_stack.4.weight | Size: torch.Size([10, 512]) | Values : tensor([[-0.0400,  0.0175, -0.0200,  ..., -0.0361,  0.0330,  0.0242],\n",
      "        [ 0.0324,  0.0419, -0.0172,  ...,  0.0190, -0.0169, -0.0264]],\n",
      "       device='cuda:0', grad_fn=<SliceBackward0>) \n",
      "\n",
      "Layer: linear_relu_stack.4.bias | Size: torch.Size([10]) | Values : tensor([0.0361, 0.0263], device='cuda:0', grad_fn=<SliceBackward0>) \n",
      "\n"
     ]
    }
   ],
   "source": [
    "print(f\"Model structure: {model}\\n\\n\")\n",
    "\n",
    "for name, param in model.named_parameters():\n",
    "    print(f\"Layer: {name} | Size: {param.size()} | Values : {param[:2]} \\n\")\n"
   ]
  }
 ],
 "metadata": {
  "kernelspec": {
   "display_name": "pytorch-tutorial-q3NObwjS-py3.10",
   "language": "python",
   "name": "python3"
  },
  "language_info": {
   "codemirror_mode": {
    "name": "ipython",
    "version": 3
   },
   "file_extension": ".py",
   "mimetype": "text/x-python",
   "name": "python",
   "nbconvert_exporter": "python",
   "pygments_lexer": "ipython3",
   "version": "3.10.12"
  }
 },
 "nbformat": 4,
 "nbformat_minor": 2
}
